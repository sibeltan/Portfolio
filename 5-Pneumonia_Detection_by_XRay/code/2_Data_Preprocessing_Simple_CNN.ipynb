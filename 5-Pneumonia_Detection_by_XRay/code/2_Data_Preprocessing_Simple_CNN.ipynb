{
 "cells": [
  {
   "cell_type": "markdown",
   "metadata": {},
   "source": [
    "# Part 2 - Data Preprocessing and Modeling"
   ]
  },
  {
   "cell_type": "markdown",
   "metadata": {},
   "source": [
    "This notebook will focus on preprocessing data to bring them optimal size and format using data augmentation parameters. Once the preprocessing complete, I will train various Tensorflow Keras \"sequential\" and \"\"convolutional\" networks as well as pre-trained models to sample transfer learning to come up with best results. As the classes are imbalanced, my success metrics should be Precision and Recall. Specifically Recall score is the most important as our goal is to focus on minimizing false negative rates to not classify a patient as healthy while in fact they have pneumonia."
   ]
  },
  {
   "cell_type": "code",
   "execution_count": 1,
   "metadata": {},
   "outputs": [
    {
     "name": "stderr",
     "output_type": "stream",
     "text": [
      "Using TensorFlow backend.\n"
     ]
    }
   ],
   "source": [
    "# Import libraries\n",
    "\n",
    "import numpy as np\n",
    "import pandas as pd\n",
    "from matplotlib import pyplot as plt\n",
    "\n",
    "from glob import glob\n",
    "\n",
    "from sklearn.metrics import confusion_matrix\n",
    "from mlxtend.plotting import plot_confusion_matrix\n",
    "\n",
    "import tensorflow as tf\n",
    "\n",
    "from tensorflow.keras import utils\n",
    "from tensorflow.keras.models import Sequential\n",
    "from tensorflow.keras.layers import Dense, Dropout, Flatten, ZeroPadding2D, Conv2D, MaxPooling2D, BatchNormalization\n",
    "from tensorflow.keras.preprocessing.image import ImageDataGenerator, DirectoryIterator\n",
    "from tensorflow.keras.optimizers import Adam, SGD, RMSprop\n",
    "from tensorflow.keras.callbacks import EarlyStopping, ModelCheckpoint\n",
    "\n",
    "from keras.applications.vgg16 import VGG16\n",
    "from keras.applications.vgg16 import preprocess_input\n",
    "from keras.applications.vgg16 import decode_predictions\n",
    "\n",
    "# For reproducibility\n",
    "np.random.seed(42)"
   ]
  },
  {
   "cell_type": "code",
   "execution_count": 2,
   "metadata": {},
   "outputs": [],
   "source": [
    "train_dir = './data/chest_xray/train/'\n",
    "test_dir = './data/chest_xray/test/'"
   ]
  },
  {
   "cell_type": "code",
   "execution_count": 3,
   "metadata": {},
   "outputs": [],
   "source": [
    "classes = ['bacterial', 'viral', 'normal']"
   ]
  },
  {
   "cell_type": "markdown",
   "metadata": {},
   "source": [
    "I manually checked the images and found that there are a lot of variations for such a small dataset. The hight/width ratio, zooming range, angle of the body etc features differ among differen Xray images. Even the physical dimensions of images are vastly different. This makes it harder to train a model that will give high accuracy rate. I decided to use generator class to generate more images within train data with optimal rotation_range, shear_range, zoom_range, horizontal_flip (mirroring randomly selected images) to get additional observations to train the model with."
   ]
  },
  {
   "cell_type": "code",
   "execution_count": 4,
   "metadata": {},
   "outputs": [],
   "source": [
    "# Augmentation configuration to be used while training\n",
    "train_generator = ImageDataGenerator(\n",
    "                            rotation_range=20,\n",
    "                            width_shift_range=0.25,\n",
    "                            height_shift_range=0.25,\n",
    "                            rescale=1./255,\n",
    "                            shear_range=0.25,\n",
    "                            zoom_range=0.25,\n",
    "                            horizontal_flip=True,\n",
    "                            fill_mode='nearest'\n",
    "                            )"
   ]
  },
  {
   "cell_type": "markdown",
   "metadata": {},
   "source": [
    "I will resize images to 224x224 px value and turn them to grayscale to only save the brightness and get rid of RGB values as the images are alrady provided as grayscale. It will help the train process run faster.\n"
   ]
  },
  {
   "cell_type": "code",
   "execution_count": 5,
   "metadata": {},
   "outputs": [
    {
     "name": "stdout",
     "output_type": "stream",
     "text": [
      "Found 5232 images belonging to 3 classes.\n"
     ]
    }
   ],
   "source": [
    "train_set = DirectoryIterator(train_dir,\n",
    "                             train_generator,\n",
    "                             target_size = (224, 224),\n",
    "                             color_mode = 'rgb',\n",
    "                             batch_size = 16,\n",
    "                             classes=classes,\n",
    "                             class_mode = 'categorical')"
   ]
  },
  {
   "cell_type": "code",
   "execution_count": 6,
   "metadata": {},
   "outputs": [],
   "source": [
    "# Augmentation configuration to be used for validation\n",
    "test_generator = ImageDataGenerator(rescale=1./255)"
   ]
  },
  {
   "cell_type": "code",
   "execution_count": 7,
   "metadata": {},
   "outputs": [
    {
     "name": "stdout",
     "output_type": "stream",
     "text": [
      "Found 624 images belonging to 3 classes.\n"
     ]
    }
   ],
   "source": [
    "test_set = DirectoryIterator(test_dir,\n",
    "                             test_generator,\n",
    "                             target_size = (224, 224),\n",
    "                             color_mode = 'rgb',\n",
    "                             batch_size = 16, # set batch size a number that divides sample size\n",
    "                             classes=classes,\n",
    "                             class_mode = 'categorical')"
   ]
  },
  {
   "cell_type": "code",
   "execution_count": 8,
   "metadata": {},
   "outputs": [
    {
     "data": {
      "text/plain": [
       "(224, 224, 3)"
      ]
     },
     "execution_count": 8,
     "metadata": {},
     "output_type": "execute_result"
    }
   ],
   "source": [
    "# Tensor size of train images\n",
    "train_set.image_shape"
   ]
  },
  {
   "cell_type": "code",
   "execution_count": 9,
   "metadata": {},
   "outputs": [
    {
     "data": {
      "text/plain": [
       "(224, 224, 3)"
      ]
     },
     "execution_count": 9,
     "metadata": {},
     "output_type": "execute_result"
    }
   ],
   "source": [
    "# Tensor size of test images\n",
    "test_set.image_shape"
   ]
  },
  {
   "cell_type": "code",
   "execution_count": 10,
   "metadata": {},
   "outputs": [],
   "source": [
    "train_size = len(train_set.filenames)\n",
    "test_size = len(test_set.filenames)"
   ]
  },
  {
   "cell_type": "code",
   "execution_count": 11,
   "metadata": {},
   "outputs": [
    {
     "data": {
      "text/plain": [
       "(5232, 624)"
      ]
     },
     "execution_count": 11,
     "metadata": {},
     "output_type": "execute_result"
    }
   ],
   "source": [
    "train_size, test_size"
   ]
  },
  {
   "cell_type": "markdown",
   "metadata": {},
   "source": [
    "## Model #1 Dense"
   ]
  },
  {
   "cell_type": "markdown",
   "metadata": {},
   "source": [
    "I will start with a simple sequential model and increase the complexity with based on the results we get from each iteration"
   ]
  },
  {
   "cell_type": "code",
   "execution_count": 12,
   "metadata": {},
   "outputs": [],
   "source": [
    "# Initialize the sequential model\n",
    "model1 = Sequential()\n",
    "\n",
    "# Add flatten layer as input layer\n",
    "model1.add(Flatten(input_shape = train_set.image_shape))\n",
    "\n",
    "# Add a second densely-connected layer \n",
    "model1.add(Dense(units = 1024,\n",
    "                activation='relu'))\n",
    "\n",
    "# Add regularization\n",
    "model1.add(Dropout(rate = 0.20))\n",
    "\n",
    "# Add output layer\n",
    "model1.add(Dense(units = 3,\n",
    "    activation='softmax'\n",
    "))"
   ]
  },
  {
   "cell_type": "code",
   "execution_count": 13,
   "metadata": {},
   "outputs": [],
   "source": [
    "# Define optimizer\n",
    "opt = SGD(lr=0.01)"
   ]
  },
  {
   "cell_type": "code",
   "execution_count": 14,
   "metadata": {},
   "outputs": [],
   "source": [
    "# Compile the first model\n",
    "model1.compile(optimizer = opt,\n",
    "              loss = 'categorical_crossentropy',\n",
    "              metrics = ['accuracy'])"
   ]
  },
  {
   "cell_type": "code",
   "execution_count": 15,
   "metadata": {},
   "outputs": [],
   "source": [
    "# Define early stopping\n",
    "early_stopping_monitor = EarlyStopping(patience = 5, \n",
    "                                       monitor = \"val_accuracy\", \n",
    "                                       mode=\"max\", \n",
    "                                       verbose = 2)\n",
    "\n",
    "# Define batch size (a divisor of test sample size)\n",
    "batch_size = 16"
   ]
  },
  {
   "cell_type": "code",
   "execution_count": 16,
   "metadata": {},
   "outputs": [
    {
     "name": "stdout",
     "output_type": "stream",
     "text": [
      "Epoch 1/10\n",
      "327/327 - 231s - loss: 8.2893 - accuracy: 0.4838 - val_loss: 9.8672 - val_accuracy: 0.3878\n",
      "Epoch 2/10\n",
      "327/327 - 244s - loss: 8.2993 - accuracy: 0.4851 - val_loss: 9.8672 - val_accuracy: 0.3878\n",
      "Epoch 3/10\n",
      "327/327 - 261s - loss: 8.2993 - accuracy: 0.4851 - val_loss: 9.8672 - val_accuracy: 0.3878\n",
      "Epoch 4/10\n",
      "327/327 - 239s - loss: 8.2993 - accuracy: 0.4851 - val_loss: 9.8672 - val_accuracy: 0.3878\n",
      "Epoch 5/10\n",
      "327/327 - 240s - loss: 8.2993 - accuracy: 0.4851 - val_loss: 9.8672 - val_accuracy: 0.3878\n",
      "Epoch 6/10\n",
      "327/327 - 236s - loss: 8.2993 - accuracy: 0.4851 - val_loss: 9.8672 - val_accuracy: 0.3878\n",
      "Epoch 7/10\n",
      "327/327 - 222s - loss: 8.2993 - accuracy: 0.4851 - val_loss: 9.8672 - val_accuracy: 0.3878\n",
      "Epoch 8/10\n",
      "327/327 - 208s - loss: 8.2993 - accuracy: 0.4851 - val_loss: 9.8672 - val_accuracy: 0.3878\n",
      "Epoch 9/10\n",
      "327/327 - 210s - loss: 8.2993 - accuracy: 0.4851 - val_loss: 9.8672 - val_accuracy: 0.3878\n",
      "Epoch 10/10\n",
      "327/327 - 212s - loss: 8.2993 - accuracy: 0.4851 - val_loss: 9.8672 - val_accuracy: 0.3878\n"
     ]
    }
   ],
   "source": [
    "# Fit model on training data\n",
    "history = model1.fit_generator(generator = train_set,\n",
    "                              validation_data = test_set,\n",
    "                              epochs = 10,\n",
    "#                               callbacks=[early_stopping_monitor],\n",
    "                              steps_per_epoch = train_size/batch_size, \n",
    "                              validation_steps = test_size/batch_size,\n",
    "                              shuffle=False,\n",
    "                              verbose = 2)"
   ]
  },
  {
   "cell_type": "code",
   "execution_count": 17,
   "metadata": {},
   "outputs": [
    {
     "data": {
      "image/png": "[encoded data removed]",
      "text/plain": [
       "<Figure size 864x576 with 1 Axes>"
      ]
     },
     "metadata": {
      "needs_background": "light"
     },
     "output_type": "display_data"
    }
   ],
   "source": [
    "# Check out our train loss & accuracy and test loss & accuracy over epochs.\n",
    "train_loss = history.history['loss']\n",
    "test_loss = history.history['val_loss']\n",
    "train_accuracy = history.history['accuracy']\n",
    "test_accuracy = history.history['val_accuracy']\n",
    "\n",
    "# Generate line plot of training, testing loss & accuracy over epochs.\n",
    "plt.figure(figsize=(12, 8))\n",
    "plt.plot(train_loss, label='Training Loss', color='blue')\n",
    "plt.plot(test_loss, label='Testing Loss', color='red')\n",
    "plt.plot(train_accuracy, label='Training Accuracy', color='purple')\n",
    "plt.plot(test_accuracy, label='Testing Accuracy', color='orange')\n",
    "plt.legend(fontsize = 18);"
   ]
  },
  {
   "cell_type": "code",
   "execution_count": 18,
   "metadata": {},
   "outputs": [
    {
     "name": "stdout",
     "output_type": "stream",
     "text": [
      "39/39 - 8s\n"
     ]
    }
   ],
   "source": [
    "predictions = model1.predict_generator(generator = test_set, \n",
    "                                       verbose = 2,\n",
    "                                       steps = test_size/batch_size\n",
    "                                      )"
   ]
  },
  {
   "cell_type": "code",
   "execution_count": 19,
   "metadata": {},
   "outputs": [],
   "source": [
    "y_hat = np.argmax(predictions, axis = 1) \n",
    "y_true = test_set.classes"
   ]
  },
  {
   "cell_type": "code",
   "execution_count": 20,
   "metadata": {},
   "outputs": [
    {
     "data": {
      "text/plain": [
       "True"
      ]
     },
     "execution_count": 20,
     "metadata": {},
     "output_type": "execute_result"
    }
   ],
   "source": [
    "len(y_true) == len(y_hat)"
   ]
  },
  {
   "cell_type": "code",
   "execution_count": 21,
   "metadata": {},
   "outputs": [],
   "source": [
    "from sklearn.metrics import confusion_matrix\n",
    "from mlxtend.plotting import plot_confusion_matrix"
   ]
  },
  {
   "cell_type": "code",
   "execution_count": 22,
   "metadata": {},
   "outputs": [
    {
     "data": {
      "image/png": "[encoded data removed]",
      "text/plain": [
       "<Figure size 360x360 with 1 Axes>"
      ]
     },
     "metadata": {
      "needs_background": "light"
     },
     "output_type": "display_data"
    }
   ],
   "source": [
    "CM = confusion_matrix(y_true, y_hat)\n",
    "fig, ax = plot_confusion_matrix(conf_mat=CM,  figsize=(5, 5))\n",
    "plt.show()"
   ]
  },
  {
   "cell_type": "markdown",
   "metadata": {},
   "source": [
    "My first model had five dense layers with very few neurons. It performed terrible with no predictive capability as all images were classified as bacterial pneumonia (majority class). I removed all additional dense layers and kept only one with large number of neurons which did not make any change. It seems like we can't get away without convolutional layers in such a large input size."
   ]
  },
  {
   "cell_type": "markdown",
   "metadata": {},
   "source": [
    "## Model #2 Simple CNN"
   ]
  },
  {
   "cell_type": "code",
   "execution_count": 28,
   "metadata": {},
   "outputs": [],
   "source": [
    "# Initialize the sequential model\n",
    "model2 = Sequential()\n",
    "\n",
    "# Add convolution and pooling as input layer\n",
    "model2.add(Conv2D(filters = 32, # number of filters\n",
    "                 kernel_size = (3, 3), # height/width of filter\n",
    "                 input_shape = train_set.image_shape, # shape of input (image)\n",
    "                 activation = 'relu')) # activation function\n",
    "\n",
    "model2.add(MaxPooling2D(pool_size = (2, 2))) # dimensions of region of pooling\n",
    "\n",
    "# Add a second convolutional layer\n",
    "model2.add(Conv2D(filters = 32, \n",
    "                 kernel_size = (3, 3),\n",
    "                 activation = 'relu'))\n",
    "\n",
    "model2.add(MaxPooling2D(pool_size = (2, 2)))\n",
    "\n",
    "# Add a flattening layer\n",
    "model2.add(Flatten())\n",
    "\n",
    "# Add a densely-connected layer\n",
    "model2.add(Dense(units = 128,\n",
    "                activation = 'relu'))\n",
    "\n",
    "# Add output layer\n",
    "model2.add(Dense(units = 3,\n",
    "                activation = 'sigmoid'))"
   ]
  },
  {
   "cell_type": "code",
   "execution_count": 29,
   "metadata": {},
   "outputs": [
    {
     "name": "stdout",
     "output_type": "stream",
     "text": [
      "Model: \"sequential_2\"\n",
      "_________________________________________________________________\n",
      "Layer (type)                 Output Shape              Param #   \n",
      "=================================================================\n",
      "conv2d_2 (Conv2D)            (None, 222, 222, 32)      896       \n",
      "_________________________________________________________________\n",
      "max_pooling2d_2 (MaxPooling2 (None, 111, 111, 32)      0         \n",
      "_________________________________________________________________\n",
      "conv2d_3 (Conv2D)            (None, 109, 109, 32)      9248      \n",
      "_________________________________________________________________\n",
      "max_pooling2d_3 (MaxPooling2 (None, 54, 54, 32)        0         \n",
      "_________________________________________________________________\n",
      "flatten_2 (Flatten)          (None, 93312)             0         \n",
      "_________________________________________________________________\n",
      "dense_4 (Dense)              (None, 128)               11944064  \n",
      "_________________________________________________________________\n",
      "dense_5 (Dense)              (None, 3)                 387       \n",
      "=================================================================\n",
      "Total params: 11,954,595\n",
      "Trainable params: 11,954,595\n",
      "Non-trainable params: 0\n",
      "_________________________________________________________________\n"
     ]
    }
   ],
   "source": [
    "model2.summary()"
   ]
  },
  {
   "cell_type": "code",
   "execution_count": 30,
   "metadata": {},
   "outputs": [],
   "source": [
    "model2.compile(optimizer = 'adam',\n",
    "              loss = 'binary_crossentropy',\n",
    "              metrics = ['accuracy'])"
   ]
  },
  {
   "cell_type": "code",
   "execution_count": 31,
   "metadata": {},
   "outputs": [
    {
     "name": "stdout",
     "output_type": "stream",
     "text": [
      "Epoch 1/10\n",
      "327/327 - 262s - loss: 0.5500 - accuracy: 0.7427 - val_loss: 0.6414 - val_accuracy: 0.7158\n",
      "Epoch 2/10\n",
      "327/327 - 287s - loss: 0.4778 - accuracy: 0.7791 - val_loss: 0.5886 - val_accuracy: 0.7580\n",
      "Epoch 3/10\n",
      "327/327 - 276s - loss: 0.4750 - accuracy: 0.7819 - val_loss: 0.5115 - val_accuracy: 0.7724\n",
      "Epoch 4/10\n",
      "327/327 - 283s - loss: 0.4617 - accuracy: 0.7892 - val_loss: 0.4703 - val_accuracy: 0.7965\n",
      "Epoch 5/10\n",
      "327/327 - 286s - loss: 0.4452 - accuracy: 0.7961 - val_loss: 0.5571 - val_accuracy: 0.7553\n",
      "Epoch 6/10\n",
      "327/327 - 287s - loss: 0.4374 - accuracy: 0.8010 - val_loss: 0.5285 - val_accuracy: 0.7853\n",
      "Epoch 7/10\n",
      "327/327 - 296s - loss: 0.4263 - accuracy: 0.8078 - val_loss: 0.4447 - val_accuracy: 0.8136\n",
      "Epoch 8/10\n",
      "327/327 - 294s - loss: 0.4330 - accuracy: 0.8038 - val_loss: 0.4449 - val_accuracy: 0.8189\n",
      "Epoch 9/10\n",
      "327/327 - 298s - loss: 0.4210 - accuracy: 0.8078 - val_loss: 0.4221 - val_accuracy: 0.8285\n",
      "Epoch 10/10\n",
      "327/327 - 390s - loss: 0.4105 - accuracy: 0.8120 - val_loss: 0.4033 - val_accuracy: 0.8376\n"
     ]
    }
   ],
   "source": [
    "# Fit model on training data\n",
    "history = model2.fit_generator(generator = train_set,\n",
    "                              validation_data = test_set,\n",
    "                              epochs = 10,\n",
    "                              callbacks=[early_stopping_monitor],\n",
    "                              steps_per_epoch = train_size/batch_size, \n",
    "                              validation_steps = test_size/batch_size,\n",
    "                              shuffle = True,\n",
    "                              verbose = 2)"
   ]
  },
  {
   "cell_type": "markdown",
   "metadata": {},
   "source": [
    "## Model #3 - Pre-trained Model (VGG16 Convolutional Base)"
   ]
  },
  {
   "cell_type": "markdown",
   "metadata": {},
   "source": [
    "I decided to use the artichecture of a pre-trained model as I was curious about transfer learning outcome. Transfer learning is using a pre-trained model and/or its weights on a different dataset. I chose to use the arthitecture of VGG16 convolutional neural network which is popular from ImageNet competition. This allowed me to save time for inital checking the capability of my data without requiring vast amount of hyperparameter tunning and optimizing."
   ]
  },
  {
   "cell_type": "code",
   "execution_count": null,
   "metadata": {},
   "outputs": [],
   "source": [
    "# base_model = VGG16(weights = 'imagenet', \n",
    "#                  include_top = False,\n",
    "#                  input_shape = train_set.image_shape)"
   ]
  },
  {
   "cell_type": "code",
   "execution_count": null,
   "metadata": {},
   "outputs": [],
   "source": [
    "# VGG16 Arthitecture\n",
    "\n",
    "model = Sequential()\n",
    "model.add(Conv2D(input_shape=train_set.image_shape, filters=64,kernel_size=(3,3),padding=\"same\", activation=\"relu\"))\n",
    "model.add(Conv2D(filters=64,kernel_size=(3,3),padding=\"same\", activation=\"relu\"))\n",
    "model.add(MaxPooling2D(pool_size=(2,2),strides=(2,2)))\n",
    "model.add(Conv2D(filters=128, kernel_size=(3,3), padding=\"same\", activation=\"relu\"))\n",
    "model.add(Conv2D(filters=128, kernel_size=(3,3), padding=\"same\", activation=\"relu\"))\n",
    "model.add(MaxPooling2D(pool_size=(2,2),strides=(2,2)))\n",
    "model.add(Conv2D(filters=256, kernel_size=(3,3), padding=\"same\", activation=\"relu\"))\n",
    "model.add(Conv2D(filters=256, kernel_size=(3,3), padding=\"same\", activation=\"relu\"))\n",
    "model.add(Conv2D(filters=256, kernel_size=(3,3), padding=\"same\", activation=\"relu\"))\n",
    "model.add(MaxPooling2D(pool_size=(2,2),strides=(2,2)))\n",
    "model.add(Conv2D(filters=512, kernel_size=(3,3), padding=\"same\", activation=\"relu\"))\n",
    "model.add(Conv2D(filters=512, kernel_size=(3,3), padding=\"same\", activation=\"relu\"))\n",
    "model.add(Conv2D(filters=512, kernel_size=(3,3), padding=\"same\", activation=\"relu\"))\n",
    "model.add(MaxPooling2D(pool_size=(2,2),strides=(2,2)))\n",
    "model.add(Conv2D(filters=512, kernel_size=(3,3), padding=\"same\", activation=\"relu\"))\n",
    "model.add(Conv2D(filters=512, kernel_size=(3,3), padding=\"same\", activation=\"relu\"))\n",
    "model.add(Conv2D(filters=512, kernel_size=(3,3), padding=\"same\", activation=\"relu\"))\n",
    "model.add(MaxPooling2D(pool_size=(2,2),strides=(2,2)))\n",
    "model.add(Flatten())\n",
    "model.add(Dense(units=4096,activation=\"relu\"))\n",
    "model.add(Dense(units=4096,activation=\"relu\"))\n",
    "model.add(Dense(units=2, activation=\"sigmoid\"))"
   ]
  },
  {
   "cell_type": "code",
   "execution_count": null,
   "metadata": {},
   "outputs": [],
   "source": [
    "opt = Adam(lr=0.001)\n",
    "model.compile(optimizer=opt, loss='categorical_crossentropy', metrics=['accuracy'])"
   ]
  },
  {
   "cell_type": "code",
   "execution_count": null,
   "metadata": {},
   "outputs": [],
   "source": [
    "model.summary()"
   ]
  },
  {
   "cell_type": "code",
   "execution_count": null,
   "metadata": {},
   "outputs": [],
   "source": [
    "checkpoint = ModelCheckpoint(\"vgg16.h5\", monitor='accuracy', verbose=1, save_best_only=True, \n",
    "                             save_weights_only=False, mode='max', save_freq=1)\n",
    "early = EarlyStopping(monitor='val_acc', min_delta=0, patience=20, verbose=1, mode='auto')"
   ]
  },
  {
   "cell_type": "code",
   "execution_count": null,
   "metadata": {},
   "outputs": [],
   "source": [
    "history = model.fit_generator(steps_per_epoch=100,\n",
    "                              generator=train_set, \n",
    "                              validation_data=test_set, \n",
    "                              validation_steps=10,\n",
    "                              epochs=25,\n",
    "                              callbacks=[checkpoint,early])"
   ]
  },
  {
   "cell_type": "code",
   "execution_count": null,
   "metadata": {},
   "outputs": [],
   "source": [
    "acc = history.history['accuracy']\n",
    "val_acc = history.history['val_accuracy']\n",
    "\n",
    "loss = history.history['loss']\n",
    "val_loss = history.history['val_loss']\n",
    "\n",
    "epochs_range = range(25)\n",
    "\n",
    "plt.figure(figsize=(8, 8))\n",
    "plt.subplot(1, 2, 1)\n",
    "plt.plot(epochs_range, acc, label='Training Accuracy')\n",
    "plt.plot(epochs_range, val_acc, label='Validation Accuracy')\n",
    "plt.legend(loc='lower right')\n",
    "plt.title('Training and Validation Accuracy')\n",
    "\n",
    "plt.subplot(1, 2, 2)\n",
    "plt.plot(epochs_range, loss, label='Training Loss')\n",
    "plt.plot(epochs_range, val_loss, label='Validation Loss')\n",
    "plt.legend(loc='upper right')\n",
    "plt.title('Training and Validation Loss')\n",
    "plt.show()"
   ]
  }
 ],
 "metadata": {
  "kernelspec": {
   "display_name": "Python 3",
   "language": "python",
   "name": "python3"
  },
  "language_info": {
   "codemirror_mode": {
    "name": "ipython",
    "version": 3
   },
   "file_extension": ".py",
   "mimetype": "text/x-python",
   "name": "python",
   "nbconvert_exporter": "python",
   "pygments_lexer": "ipython3",
   "version": "3.7.4"
  }
 },
 "nbformat": 4,
 "nbformat_minor": 2
}
